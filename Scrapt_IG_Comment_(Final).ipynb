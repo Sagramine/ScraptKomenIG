{
  "nbformat": 4,
  "nbformat_minor": 0,
  "metadata": {
    "colab": {
      "provenance": [],
      "include_colab_link": true
    },
    "kernelspec": {
      "name": "python3",
      "display_name": "Python 3"
    },
    "language_info": {
      "name": "python"
    }
  },
  "cells": [
    {
      "cell_type": "markdown",
      "metadata": {
        "id": "view-in-github",
        "colab_type": "text"
      },
      "source": [
        "<a href=\"https://colab.research.google.com/github/Sagramine/ScraptKomenIG/blob/main/Scrapt_IG_Comment_(Final).ipynb\" target=\"_parent\"><img src=\"https://colab.research.google.com/assets/colab-badge.svg\" alt=\"Open In Colab\"/></a>"
      ]
    },
    {
      "cell_type": "markdown",
      "source": [
        "# **Install Dependencies**"
      ],
      "metadata": {
        "id": "__SIKDA0Ufwj"
      }
    },
    {
      "cell_type": "code",
      "source": [
        "!pip install instagrapi pandas"
      ],
      "metadata": {
        "id": "x66xKRD1hm-1",
        "colab": {
          "base_uri": "https://localhost:8080/"
        },
        "outputId": "3308b00e-4a7a-41c1-80ef-474e57a1a8f5"
      },
      "execution_count": null,
      "outputs": [
        {
          "output_type": "stream",
          "name": "stdout",
          "text": [
            "Collecting instagrapi\n",
            "  Downloading instagrapi-2.1.3.tar.gz (102 kB)\n",
            "\u001b[?25l     \u001b[90m━━━━━━━━━━━━━━━━━━━━━━━━━━━━━━━━━━━━━━━━\u001b[0m \u001b[32m0.0/102.6 kB\u001b[0m \u001b[31m?\u001b[0m eta \u001b[36m-:--:--\u001b[0m\r\u001b[2K     \u001b[90m━━━━━━━━━━━━━━━━━━━━━━━━━━━━━━━━━━━━━━━━\u001b[0m \u001b[32m102.6/102.6 kB\u001b[0m \u001b[31m3.0 MB/s\u001b[0m eta \u001b[36m0:00:00\u001b[0m\n",
            "\u001b[?25h  Preparing metadata (setup.py) ... \u001b[?25l\u001b[?25hdone\n",
            "Requirement already satisfied: pandas in /usr/local/lib/python3.11/dist-packages (2.2.2)\n",
            "Requirement already satisfied: requests<3.0,>=2.25.1 in /usr/local/lib/python3.11/dist-packages (from instagrapi) (2.32.3)\n",
            "Requirement already satisfied: PySocks==1.7.1 in /usr/local/lib/python3.11/dist-packages (from instagrapi) (1.7.1)\n",
            "Collecting pydantic==2.10.1 (from instagrapi)\n",
            "  Downloading pydantic-2.10.1-py3-none-any.whl.metadata (169 kB)\n",
            "\u001b[2K     \u001b[90m━━━━━━━━━━━━━━━━━━━━━━━━━━━━━━━━━━━━━━━━\u001b[0m \u001b[32m169.7/169.7 kB\u001b[0m \u001b[31m5.2 MB/s\u001b[0m eta \u001b[36m0:00:00\u001b[0m\n",
            "\u001b[?25hCollecting pycryptodomex==3.21.0 (from instagrapi)\n",
            "  Downloading pycryptodomex-3.21.0-cp36-abi3-manylinux_2_17_x86_64.manylinux2014_x86_64.whl.metadata (3.4 kB)\n",
            "Requirement already satisfied: annotated-types>=0.6.0 in /usr/local/lib/python3.11/dist-packages (from pydantic==2.10.1->instagrapi) (0.7.0)\n",
            "Collecting pydantic-core==2.27.1 (from pydantic==2.10.1->instagrapi)\n",
            "  Downloading pydantic_core-2.27.1-cp311-cp311-manylinux_2_17_x86_64.manylinux2014_x86_64.whl.metadata (6.6 kB)\n",
            "Requirement already satisfied: typing-extensions>=4.12.2 in /usr/local/lib/python3.11/dist-packages (from pydantic==2.10.1->instagrapi) (4.12.2)\n",
            "Requirement already satisfied: numpy>=1.23.2 in /usr/local/lib/python3.11/dist-packages (from pandas) (1.26.4)\n",
            "Requirement already satisfied: python-dateutil>=2.8.2 in /usr/local/lib/python3.11/dist-packages (from pandas) (2.8.2)\n",
            "Requirement already satisfied: pytz>=2020.1 in /usr/local/lib/python3.11/dist-packages (from pandas) (2024.2)\n",
            "Requirement already satisfied: tzdata>=2022.7 in /usr/local/lib/python3.11/dist-packages (from pandas) (2025.1)\n",
            "Requirement already satisfied: six>=1.5 in /usr/local/lib/python3.11/dist-packages (from python-dateutil>=2.8.2->pandas) (1.17.0)\n",
            "Requirement already satisfied: charset-normalizer<4,>=2 in /usr/local/lib/python3.11/dist-packages (from requests<3.0,>=2.25.1->instagrapi) (3.4.1)\n",
            "Requirement already satisfied: idna<4,>=2.5 in /usr/local/lib/python3.11/dist-packages (from requests<3.0,>=2.25.1->instagrapi) (3.10)\n",
            "Requirement already satisfied: urllib3<3,>=1.21.1 in /usr/local/lib/python3.11/dist-packages (from requests<3.0,>=2.25.1->instagrapi) (2.3.0)\n",
            "Requirement already satisfied: certifi>=2017.4.17 in /usr/local/lib/python3.11/dist-packages (from requests<3.0,>=2.25.1->instagrapi) (2024.12.14)\n",
            "Downloading pycryptodomex-3.21.0-cp36-abi3-manylinux_2_17_x86_64.manylinux2014_x86_64.whl (2.3 MB)\n",
            "\u001b[2K   \u001b[90m━━━━━━━━━━━━━━━━━━━━━━━━━━━━━━━━━━━━━━━━\u001b[0m \u001b[32m2.3/2.3 MB\u001b[0m \u001b[31m32.9 MB/s\u001b[0m eta \u001b[36m0:00:00\u001b[0m\n",
            "\u001b[?25hDownloading pydantic-2.10.1-py3-none-any.whl (455 kB)\n",
            "\u001b[2K   \u001b[90m━━━━━━━━━━━━━━━━━━━━━━━━━━━━━━━━━━━━━━━━\u001b[0m \u001b[32m455.3/455.3 kB\u001b[0m \u001b[31m26.0 MB/s\u001b[0m eta \u001b[36m0:00:00\u001b[0m\n",
            "\u001b[?25hDownloading pydantic_core-2.27.1-cp311-cp311-manylinux_2_17_x86_64.manylinux2014_x86_64.whl (2.1 MB)\n",
            "\u001b[2K   \u001b[90m━━━━━━━━━━━━━━━━━━━━━━━━━━━━━━━━━━━━━━━━\u001b[0m \u001b[32m2.1/2.1 MB\u001b[0m \u001b[31m52.3 MB/s\u001b[0m eta \u001b[36m0:00:00\u001b[0m\n",
            "\u001b[?25hBuilding wheels for collected packages: instagrapi\n",
            "  Building wheel for instagrapi (setup.py) ... \u001b[?25l\u001b[?25hdone\n",
            "  Created wheel for instagrapi: filename=instagrapi-2.1.3-py3-none-any.whl size=116361 sha256=27484fead9a3eeed92f0235a2c69d9f8e64f55a625127a22ca5f124772a00bf0\n",
            "  Stored in directory: /root/.cache/pip/wheels/31/c0/63/7ad4ef727751385676d1987f63b99b76c56adbbd043c17aa59\n",
            "Successfully built instagrapi\n",
            "Installing collected packages: pydantic-core, pycryptodomex, pydantic, instagrapi\n",
            "  Attempting uninstall: pydantic-core\n",
            "    Found existing installation: pydantic_core 2.27.2\n",
            "    Uninstalling pydantic_core-2.27.2:\n",
            "      Successfully uninstalled pydantic_core-2.27.2\n",
            "  Attempting uninstall: pydantic\n",
            "    Found existing installation: pydantic 2.10.6\n",
            "    Uninstalling pydantic-2.10.6:\n",
            "      Successfully uninstalled pydantic-2.10.6\n",
            "Successfully installed instagrapi-2.1.3 pycryptodomex-3.21.0 pydantic-2.10.1 pydantic-core-2.27.1\n"
          ]
        }
      ]
    },
    {
      "cell_type": "code",
      "execution_count": null,
      "metadata": {
        "id": "hm7pDIKAUEMI",
        "colab": {
          "base_uri": "https://localhost:8080/"
        },
        "outputId": "b953deb0-18bc-49e5-a62a-69dfdd6c9dbf"
      },
      "outputs": [
        {
          "output_type": "stream",
          "name": "stdout",
          "text": [
            "Requirement already satisfied: instagrapi in /usr/local/lib/python3.11/dist-packages (2.1.3)\n",
            "Requirement already satisfied: requests<3.0,>=2.25.1 in /usr/local/lib/python3.11/dist-packages (from instagrapi) (2.32.3)\n",
            "Requirement already satisfied: PySocks==1.7.1 in /usr/local/lib/python3.11/dist-packages (from instagrapi) (1.7.1)\n",
            "Requirement already satisfied: pydantic==2.10.1 in /usr/local/lib/python3.11/dist-packages (from instagrapi) (2.10.1)\n",
            "Requirement already satisfied: pycryptodomex==3.21.0 in /usr/local/lib/python3.11/dist-packages (from instagrapi) (3.21.0)\n",
            "Requirement already satisfied: annotated-types>=0.6.0 in /usr/local/lib/python3.11/dist-packages (from pydantic==2.10.1->instagrapi) (0.7.0)\n",
            "Requirement already satisfied: pydantic-core==2.27.1 in /usr/local/lib/python3.11/dist-packages (from pydantic==2.10.1->instagrapi) (2.27.1)\n",
            "Requirement already satisfied: typing-extensions>=4.12.2 in /usr/local/lib/python3.11/dist-packages (from pydantic==2.10.1->instagrapi) (4.12.2)\n",
            "Requirement already satisfied: charset-normalizer<4,>=2 in /usr/local/lib/python3.11/dist-packages (from requests<3.0,>=2.25.1->instagrapi) (3.4.1)\n",
            "Requirement already satisfied: idna<4,>=2.5 in /usr/local/lib/python3.11/dist-packages (from requests<3.0,>=2.25.1->instagrapi) (3.10)\n",
            "Requirement already satisfied: urllib3<3,>=1.21.1 in /usr/local/lib/python3.11/dist-packages (from requests<3.0,>=2.25.1->instagrapi) (2.3.0)\n",
            "Requirement already satisfied: certifi>=2017.4.17 in /usr/local/lib/python3.11/dist-packages (from requests<3.0,>=2.25.1->instagrapi) (2024.12.14)\n"
          ]
        }
      ],
      "source": [
        "!pip install --upgrade instagrapi"
      ]
    },
    {
      "cell_type": "markdown",
      "source": [
        "# **Import Library**"
      ],
      "metadata": {
        "id": "M_fKchiMUwK1"
      }
    },
    {
      "cell_type": "code",
      "source": [
        "from instagrapi import Client\n",
        "import pandas as pd\n",
        "from datetime import datetime\n",
        "from getpass import getpass\n",
        "import time\n",
        "import random"
      ],
      "metadata": {
        "id": "k4WTD6p9UbFc"
      },
      "execution_count": null,
      "outputs": []
    },
    {
      "cell_type": "markdown",
      "source": [
        "# **User Login**"
      ],
      "metadata": {
        "id": "UoTdNc8EU6h5"
      }
    },
    {
      "cell_type": "code",
      "source": [
        "USERNAME = input(\"Masukkan username Instagram Anda: \")\n",
        "PASSWORD = getpass(\"Masukkan password Instagram Anda: \")\n",
        "\n",
        "# Inisialisasi client\n",
        "cl = Client()\n",
        "cl.login(USERNAME, PASSWORD)\n",
        "\n",
        "print(\"\\nBerhasil login sebagai:\", cl.account_info().username)\n"
      ],
      "metadata": {
        "id": "UvWG4c1rVDtn",
        "colab": {
          "base_uri": "https://localhost:8080/"
        },
        "outputId": "abba0f73-6b45-49bf-dbdf-71b16f743967"
      },
      "execution_count": null,
      "outputs": [
        {
          "output_type": "stream",
          "name": "stdout",
          "text": [
            "Masukkan username Instagram Anda: digitaltrackid\n",
            "Masukkan password Instagram Anda: ··········\n",
            "Enter code (6 digits) for digitaltrackid (ChallengeChoice.EMAIL): 272597\n",
            "Code entered \"272597\" for digitaltrackid (0 attempts by 5 seconds)\n",
            "\n",
            "Berhasil login sebagai: digitaltrackid\n"
          ]
        }
      ]
    },
    {
      "cell_type": "markdown",
      "source": [
        "# **Scrapt**"
      ],
      "metadata": {
        "id": "rzzc6vEOWLwp"
      }
    },
    {
      "cell_type": "code",
      "source": [
        "def get_comments(url, max_comments=100):\n",
        "    try:\n",
        "        # Dapatkan media dari URL\n",
        "        media_pk = cl.media_pk_from_url(url)\n",
        "\n",
        "        # Ambil komentar\n",
        "        comments = cl.media_comments(media_pk, amount=max_comments)\n",
        "\n",
        "        # Format data\n",
        "        comments_data = []\n",
        "        try:\n",
        "            for c in comments:\n",
        "                comments_data.append({\n",
        "                    'username': c.user.username,\n",
        "                    'profile_url': f\"https://instagram.com/{c.user.username}\",\n",
        "                    'comment': c.text,\n",
        "                    'likes': c.like_count,\n",
        "                    'timestamp': c.created_at_utc.strftime('%Y-%m-%d %H:%M:%S')\n",
        "                })\n",
        "                waktu_tunda = random.uniform(1, 4)\n",
        "                print(f\"Menunggu selama {waktu_tunda:.2f} detik...\")\n",
        "                time.sleep(waktu_tunda)\n",
        "            return comments_data\n",
        "\n",
        "        except Exception as e:\n",
        "            print(f\"Terjadi kesalahan saat memproses komentar: {e.__class__.__name__} - {str(e)}\")\n",
        "            return []\n",
        "\n",
        "    except Exception as e:\n",
        "        print(f\"Terjadi kesalahan: {e.__class__.__name__} - {str(e)}\")\n",
        "        return []\n",
        "\n",
        "# Fungsi untuk mendapatkan shortlink dari URL\n",
        "def get_shortlink(url):\n",
        "    # Menghapus '/' di awal dan akhir URL jika ada\n",
        "    url = url.strip('/')\n",
        "    # Memecah URL menjadi bagian-bagian\n",
        "    parts = url.split('/')\n",
        "    # Shortlink biasanya ada di indeks terakhir\n",
        "    return parts[-1]"
      ],
      "metadata": {
        "id": "tYqomB2lVRON"
      },
      "execution_count": null,
      "outputs": []
    },
    {
      "cell_type": "markdown",
      "source": [
        "# **Eksekusi**"
      ],
      "metadata": {
        "id": "5A2oX595Vrz_"
      }
    },
    {
      "cell_type": "code",
      "source": [
        "from google.colab import files\n",
        "\n",
        "# Inisialisasi list untuk menyimpan nama file yang akan diunduh\n",
        "download_filenames = []\n",
        "\n",
        "# Inisialisasi list untuk menyimpan semua komentar (opsional)\n",
        "all_comments = []\n",
        "\n",
        "post_urls = []\n",
        "shortlinks = []\n",
        "\n",
        "while True:\n",
        "    url = input(\"\\nMasukkan URL posting Instagram (atau ketik 'selesai'): \").strip()\n",
        "    if url.lower() == 'selesai':\n",
        "        break\n",
        "    if '/p/' not in url and '/reel/' not in url:\n",
        "        print(\"URL tidak valid! Harus mengandung '/p/' atau '/reel/'\")\n",
        "        continue\n",
        "    post_urls.append(url)\n",
        "    # Mendapatkan shortlink dan menambahkannya ke daftar\n",
        "    shortlink = get_shortlink(url)\n",
        "    shortlinks.append(shortlink)\n",
        "\n",
        "if not post_urls:\n",
        "    print(\"Tidak ada URL yang dimasukkan!\")\n",
        "    exit()\n",
        "\n",
        "# Input jumlah maksimal komentar\n",
        "while True:\n",
        "    try:\n",
        "        max_comments = int(input(\"\\nMasukkan jumlah maksimal komentar per post: \"))\n",
        "        if max_comments > 0:\n",
        "            break\n",
        "        else:\n",
        "            print(\"Jumlah maksimal komentar harus lebih dari 0.\")\n",
        "    except ValueError:\n",
        "        print(\"Mohon masukkan angka yang valid.\")\n",
        "\n",
        "# Proses setiap URL\n",
        "for url, shortlink in zip(post_urls, shortlinks):\n",
        "    print(f\"\\nMemproses: {url}\")\n",
        "    comments = get_comments(url, max_comments)\n",
        "    print(f\"Jumlah komentar yang dikumpulkan: {len(comments)}\")\n",
        "\n",
        "    if comments:\n",
        "        df = pd.DataFrame(comments)\n",
        "\n",
        "        # Konversi tipe data\n",
        "        df['likes'] = pd.to_numeric(df['likes'])\n",
        "        df['timestamp'] = pd.to_datetime(df['timestamp'])\n",
        "\n",
        "        # Sorting data\n",
        "        df = df.sort_values(by=['likes', 'timestamp'], ascending=[False, False])\n",
        "\n",
        "        # Simpan ke CSV dengan nama file menggunakan shortlink\n",
        "        filename = f\"ig_comments_{shortlink}.csv\"\n",
        "        df.to_csv(filename, index=False)\n",
        "\n",
        "        # Tambahkan nama file ke daftar untuk diunduh nanti\n",
        "        download_filenames.append(filename)\n",
        "\n",
        "        print(f\"\\nFile berhasil disimpan: {filename}\")\n",
        "        print(\"\\nPreview Data:\")\n",
        "        print(df.head())\n",
        "\n",
        "        # Tambahkan komentar ke all_comments (opsional)\n",
        "        all_comments.extend(comments)\n",
        "    else:\n",
        "        print(\"\\nTidak ada komentar yang berhasil dikumpulkan untuk URL ini.\")\n",
        "\n",
        "    # Waktu tunda acak antara 3 hingga 5 detik\n",
        "    waktu_tunda = random.uniform(3, 5)\n",
        "    print(f\"Menunggu selama {waktu_tunda:.2f} detik sebelum memproses URL berikutnya...\")\n",
        "    time.sleep(waktu_tunda)\n",
        "\n",
        "# Setelah loop selesai, unduh semua file\n",
        "for file in download_filenames:\n",
        "    try:\n",
        "        files.download(file)\n",
        "    except ImportError:\n",
        "        print(f\"File disimpan sebagai {file}\")\n",
        "\n",
        "# (Opsional) Buat dan unduh file gabungan semua komentar\n",
        "if all_comments:\n",
        "    print(f\"\\nJumlah total komentar yang dikumpulkan: {len(all_comments)}\")\n",
        "    df_all = pd.DataFrame(all_comments)\n",
        "\n",
        "    # Konversi tipe data\n",
        "    df_all['likes'] = pd.to_numeric(df_all['likes'])\n",
        "    df_all['timestamp'] = pd.to_datetime(df_all['timestamp'])\n",
        "\n",
        "    # Sorting data\n",
        "    df_all = df_all.sort_values(by=['likes', 'timestamp'], ascending=[False, False])\n",
        "\n",
        "    # Simpan ke CSV gabungan\n",
        "    filename_all = \"ig_comments_all.csv\"\n",
        "    df_all.to_csv(filename_all, index=False)\n",
        "\n",
        "    # Unduh file gabungan\n",
        "    try:\n",
        "        files.download(filename_all)\n",
        "    except ImportError:\n",
        "        print(f\"File gabungan disimpan sebagai {filename_all}\")\n",
        "\n",
        "    print(f\"\\nFile gabungan berhasil disimpan: {filename_all}\")\n",
        "    print(\"\\nPreview Data Gabungan:\")\n",
        "    print(df_all.head())\n",
        "else:\n",
        "    print(\"\\nTidak ada komentar yang berhasil dikumpulkan dari semua URL.\")"
      ],
      "metadata": {
        "id": "4Q9VQShoVz4F",
        "colab": {
          "base_uri": "https://localhost:8080/",
          "height": 1000
        },
        "outputId": "077fc35a-ef18-421d-e261-3cc48fa16d98"
      },
      "execution_count": null,
      "outputs": [
        {
          "output_type": "stream",
          "name": "stdout",
          "text": [
            "\n",
            "Masukkan URL posting Instagram (atau ketik 'selesai'): https://www.instagram.com/p/C6DJbZPphVm\n",
            "\n",
            "Masukkan URL posting Instagram (atau ketik 'selesai'): selesai\n",
            "\n",
            "Masukkan jumlah maksimal komentar per post: 100\n",
            "\n",
            "Memproses: https://www.instagram.com/p/C6DJbZPphVm\n",
            "Menunggu selama 2.15 detik...\n",
            "Menunggu selama 2.23 detik...\n",
            "Menunggu selama 1.55 detik...\n",
            "Menunggu selama 3.13 detik...\n",
            "Menunggu selama 1.73 detik...\n",
            "Menunggu selama 3.97 detik...\n",
            "Menunggu selama 2.39 detik...\n",
            "Menunggu selama 1.30 detik...\n",
            "Menunggu selama 2.87 detik...\n",
            "Menunggu selama 2.96 detik...\n",
            "Menunggu selama 2.95 detik...\n",
            "Menunggu selama 3.84 detik...\n",
            "Menunggu selama 1.27 detik...\n",
            "Menunggu selama 1.94 detik...\n",
            "Menunggu selama 3.64 detik...\n",
            "Menunggu selama 2.78 detik...\n",
            "Menunggu selama 1.63 detik...\n",
            "Menunggu selama 2.29 detik...\n",
            "Menunggu selama 2.55 detik...\n",
            "Menunggu selama 1.42 detik...\n",
            "Menunggu selama 3.89 detik...\n",
            "Menunggu selama 1.45 detik...\n",
            "Menunggu selama 1.62 detik...\n",
            "Menunggu selama 3.74 detik...\n",
            "Menunggu selama 3.78 detik...\n",
            "Menunggu selama 3.47 detik...\n",
            "Menunggu selama 2.06 detik...\n",
            "Menunggu selama 3.04 detik...\n",
            "Menunggu selama 1.17 detik...\n",
            "Menunggu selama 1.26 detik...\n",
            "Menunggu selama 2.77 detik...\n",
            "Menunggu selama 3.40 detik...\n",
            "Menunggu selama 4.00 detik...\n",
            "Menunggu selama 1.76 detik...\n",
            "Menunggu selama 2.52 detik...\n",
            "Menunggu selama 3.65 detik...\n",
            "Menunggu selama 3.20 detik...\n",
            "Menunggu selama 1.95 detik...\n",
            "Menunggu selama 3.64 detik...\n",
            "Menunggu selama 1.41 detik...\n",
            "Menunggu selama 1.45 detik...\n",
            "Menunggu selama 1.26 detik...\n",
            "Menunggu selama 3.07 detik...\n",
            "Menunggu selama 2.13 detik...\n",
            "Menunggu selama 1.02 detik...\n",
            "Menunggu selama 2.49 detik...\n",
            "Menunggu selama 1.44 detik...\n",
            "Menunggu selama 2.25 detik...\n",
            "Menunggu selama 1.92 detik...\n",
            "Menunggu selama 2.73 detik...\n",
            "Menunggu selama 1.11 detik...\n",
            "Menunggu selama 2.16 detik...\n",
            "Menunggu selama 3.00 detik...\n",
            "Menunggu selama 2.68 detik...\n",
            "Menunggu selama 2.54 detik...\n",
            "Menunggu selama 2.90 detik...\n",
            "Menunggu selama 3.17 detik...\n",
            "Menunggu selama 3.69 detik...\n",
            "Menunggu selama 1.87 detik...\n",
            "Menunggu selama 3.41 detik...\n",
            "Menunggu selama 1.63 detik...\n",
            "Menunggu selama 1.57 detik...\n",
            "Menunggu selama 2.96 detik...\n",
            "Menunggu selama 3.61 detik...\n",
            "Menunggu selama 3.48 detik...\n",
            "Menunggu selama 2.94 detik...\n",
            "Menunggu selama 3.84 detik...\n",
            "Menunggu selama 1.74 detik...\n",
            "Menunggu selama 1.98 detik...\n",
            "Menunggu selama 3.73 detik...\n",
            "Menunggu selama 3.84 detik...\n",
            "Menunggu selama 1.97 detik...\n",
            "Menunggu selama 3.30 detik...\n",
            "Menunggu selama 2.09 detik...\n",
            "Menunggu selama 3.35 detik...\n",
            "Menunggu selama 3.89 detik...\n",
            "Menunggu selama 1.60 detik...\n",
            "Menunggu selama 1.73 detik...\n",
            "Menunggu selama 2.84 detik...\n",
            "Menunggu selama 1.03 detik...\n",
            "Menunggu selama 1.41 detik...\n",
            "Menunggu selama 1.67 detik...\n",
            "Menunggu selama 3.96 detik...\n",
            "Menunggu selama 2.42 detik...\n",
            "Menunggu selama 1.66 detik...\n",
            "Menunggu selama 3.78 detik...\n",
            "Menunggu selama 1.83 detik...\n",
            "Menunggu selama 1.17 detik...\n",
            "Menunggu selama 3.08 detik...\n",
            "Menunggu selama 2.32 detik...\n",
            "Menunggu selama 1.78 detik...\n",
            "Menunggu selama 3.97 detik...\n",
            "Menunggu selama 2.07 detik...\n",
            "Menunggu selama 1.79 detik...\n",
            "Menunggu selama 1.07 detik...\n",
            "Menunggu selama 2.61 detik...\n",
            "Menunggu selama 2.51 detik...\n",
            "Menunggu selama 1.14 detik...\n",
            "Menunggu selama 3.49 detik...\n",
            "Menunggu selama 3.87 detik...\n",
            "Jumlah komentar yang dikumpulkan: 100\n",
            "\n",
            "File berhasil disimpan: ig_comments_C6DJbZPphVm.csv\n",
            "\n",
            "Preview Data:\n",
            "            username                             profile_url  \\\n",
            "83      ahmad_zukhri      https://instagram.com/ahmad_zukhri   \n",
            "71        sidiq.pram        https://instagram.com/sidiq.pram   \n",
            "0   firmannugraha481  https://instagram.com/firmannugraha481   \n",
            "1     fajar_agusta94    https://instagram.com/fajar_agusta94   \n",
            "2     fajar_agusta94    https://instagram.com/fajar_agusta94   \n",
            "\n",
            "                                              comment  likes  \\\n",
            "83  Semoga bisa sampai tuntas diberantas judi onli...      2   \n",
            "71  @danip_122 ngapain d tangkap? Kenyataan nya gi...      1   \n",
            "0               Tolong berantas judi online semua nya      0   \n",
            "1                                            @prabowo      0   \n",
            "2                                  @gibran_rakabuming      0   \n",
            "\n",
            "             timestamp  \n",
            "83 2024-04-22 14:10:48  \n",
            "71 2024-04-22 21:38:00  \n",
            "0  2024-05-22 08:47:02  \n",
            "1  2024-05-15 03:47:59  \n",
            "2  2024-05-15 03:47:55  \n",
            "Menunggu selama 3.67 detik sebelum memproses URL berikutnya...\n"
          ]
        },
        {
          "output_type": "display_data",
          "data": {
            "text/plain": [
              "<IPython.core.display.Javascript object>"
            ],
            "application/javascript": [
              "\n",
              "    async function download(id, filename, size) {\n",
              "      if (!google.colab.kernel.accessAllowed) {\n",
              "        return;\n",
              "      }\n",
              "      const div = document.createElement('div');\n",
              "      const label = document.createElement('label');\n",
              "      label.textContent = `Downloading \"${filename}\": `;\n",
              "      div.appendChild(label);\n",
              "      const progress = document.createElement('progress');\n",
              "      progress.max = size;\n",
              "      div.appendChild(progress);\n",
              "      document.body.appendChild(div);\n",
              "\n",
              "      const buffers = [];\n",
              "      let downloaded = 0;\n",
              "\n",
              "      const channel = await google.colab.kernel.comms.open(id);\n",
              "      // Send a message to notify the kernel that we're ready.\n",
              "      channel.send({})\n",
              "\n",
              "      for await (const message of channel.messages) {\n",
              "        // Send a message to notify the kernel that we're ready.\n",
              "        channel.send({})\n",
              "        if (message.buffers) {\n",
              "          for (const buffer of message.buffers) {\n",
              "            buffers.push(buffer);\n",
              "            downloaded += buffer.byteLength;\n",
              "            progress.value = downloaded;\n",
              "          }\n",
              "        }\n",
              "      }\n",
              "      const blob = new Blob(buffers, {type: 'application/binary'});\n",
              "      const a = document.createElement('a');\n",
              "      a.href = window.URL.createObjectURL(blob);\n",
              "      a.download = filename;\n",
              "      div.appendChild(a);\n",
              "      a.click();\n",
              "      div.remove();\n",
              "    }\n",
              "  "
            ]
          },
          "metadata": {}
        },
        {
          "output_type": "display_data",
          "data": {
            "text/plain": [
              "<IPython.core.display.Javascript object>"
            ],
            "application/javascript": [
              "download(\"download_bc3bb4b4-44e7-41df-86f7-1b5b5c04f627\", \"ig_comments_C6DJbZPphVm.csv\", 14873)"
            ]
          },
          "metadata": {}
        },
        {
          "output_type": "stream",
          "name": "stdout",
          "text": [
            "\n",
            "Jumlah total komentar yang dikumpulkan: 100\n"
          ]
        },
        {
          "output_type": "display_data",
          "data": {
            "text/plain": [
              "<IPython.core.display.Javascript object>"
            ],
            "application/javascript": [
              "\n",
              "    async function download(id, filename, size) {\n",
              "      if (!google.colab.kernel.accessAllowed) {\n",
              "        return;\n",
              "      }\n",
              "      const div = document.createElement('div');\n",
              "      const label = document.createElement('label');\n",
              "      label.textContent = `Downloading \"${filename}\": `;\n",
              "      div.appendChild(label);\n",
              "      const progress = document.createElement('progress');\n",
              "      progress.max = size;\n",
              "      div.appendChild(progress);\n",
              "      document.body.appendChild(div);\n",
              "\n",
              "      const buffers = [];\n",
              "      let downloaded = 0;\n",
              "\n",
              "      const channel = await google.colab.kernel.comms.open(id);\n",
              "      // Send a message to notify the kernel that we're ready.\n",
              "      channel.send({})\n",
              "\n",
              "      for await (const message of channel.messages) {\n",
              "        // Send a message to notify the kernel that we're ready.\n",
              "        channel.send({})\n",
              "        if (message.buffers) {\n",
              "          for (const buffer of message.buffers) {\n",
              "            buffers.push(buffer);\n",
              "            downloaded += buffer.byteLength;\n",
              "            progress.value = downloaded;\n",
              "          }\n",
              "        }\n",
              "      }\n",
              "      const blob = new Blob(buffers, {type: 'application/binary'});\n",
              "      const a = document.createElement('a');\n",
              "      a.href = window.URL.createObjectURL(blob);\n",
              "      a.download = filename;\n",
              "      div.appendChild(a);\n",
              "      a.click();\n",
              "      div.remove();\n",
              "    }\n",
              "  "
            ]
          },
          "metadata": {}
        },
        {
          "output_type": "display_data",
          "data": {
            "text/plain": [
              "<IPython.core.display.Javascript object>"
            ],
            "application/javascript": [
              "download(\"download_3cc17767-9d76-4131-bb0f-bc613bd0c471\", \"ig_comments_all.csv\", 14873)"
            ]
          },
          "metadata": {}
        },
        {
          "output_type": "stream",
          "name": "stdout",
          "text": [
            "\n",
            "File gabungan berhasil disimpan: ig_comments_all.csv\n",
            "\n",
            "Preview Data Gabungan:\n",
            "            username                             profile_url  \\\n",
            "83      ahmad_zukhri      https://instagram.com/ahmad_zukhri   \n",
            "71        sidiq.pram        https://instagram.com/sidiq.pram   \n",
            "0   firmannugraha481  https://instagram.com/firmannugraha481   \n",
            "1     fajar_agusta94    https://instagram.com/fajar_agusta94   \n",
            "2     fajar_agusta94    https://instagram.com/fajar_agusta94   \n",
            "\n",
            "                                              comment  likes  \\\n",
            "83  Semoga bisa sampai tuntas diberantas judi onli...      2   \n",
            "71  @danip_122 ngapain d tangkap? Kenyataan nya gi...      1   \n",
            "0               Tolong berantas judi online semua nya      0   \n",
            "1                                            @prabowo      0   \n",
            "2                                  @gibran_rakabuming      0   \n",
            "\n",
            "             timestamp  \n",
            "83 2024-04-22 14:10:48  \n",
            "71 2024-04-22 21:38:00  \n",
            "0  2024-05-22 08:47:02  \n",
            "1  2024-05-15 03:47:59  \n",
            "2  2024-05-15 03:47:55  \n"
          ]
        }
      ]
    }
  ]
}